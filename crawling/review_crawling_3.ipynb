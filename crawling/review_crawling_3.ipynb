{
 "cells": [
  {
   "cell_type": "markdown",
   "id": "82b298d6",
   "metadata": {},
   "source": [
    "##### 도서 리뷰 크롤링\n",
    "* 교보문고, 베스트셀러 도서 기준으로 도서 리뷰 가져오기"
   ]
  },
  {
   "cell_type": "code",
   "execution_count": 5,
   "id": "ceea94de",
   "metadata": {},
   "outputs": [
    {
     "name": "stderr",
     "output_type": "stream",
     "text": [
      "WARNING: Retrying (Retry(total=4, connect=None, read=None, redirect=None, status=None)) after connection broken by 'NewConnectionError('<pip._vendor.urllib3.connection.HTTPSConnection object at 0x00000148D029F620>: Failed to establish a new connection: [Errno 11001] getaddrinfo failed')': /simple/transformers/\n",
      "WARNING: Retrying (Retry(total=3, connect=None, read=None, redirect=None, status=None)) after connection broken by 'NewConnectionError('<pip._vendor.urllib3.connection.HTTPSConnection object at 0x00000148CF410680>: Failed to establish a new connection: [Errno 11001] getaddrinfo failed')': /simple/transformers/\n",
      "WARNING: Retrying (Retry(total=2, connect=None, read=None, redirect=None, status=None)) after connection broken by 'NewConnectionError('<pip._vendor.urllib3.connection.HTTPSConnection object at 0x00000148D0707890>: Failed to establish a new connection: [Errno 11001] getaddrinfo failed')': /simple/transformers/\n",
      "WARNING: Retrying (Retry(total=1, connect=None, read=None, redirect=None, status=None)) after connection broken by 'NewConnectionError('<pip._vendor.urllib3.connection.HTTPSConnection object at 0x00000148D07060C0>: Failed to establish a new connection: [Errno 11001] getaddrinfo failed')': /simple/transformers/\n",
      "WARNING: Retrying (Retry(total=0, connect=None, read=None, redirect=None, status=None)) after connection broken by 'NewConnectionError('<pip._vendor.urllib3.connection.HTTPSConnection object at 0x00000148D0704650>: Failed to establish a new connection: [Errno 11001] getaddrinfo failed')': /simple/transformers/\n",
      "ERROR: Could not find a version that satisfies the requirement transformers (from versions: none)\n",
      "ERROR: No matching distribution found for transformers\n"
     ]
    }
   ],
   "source": [
    "! pip install transformers"
   ]
  },
  {
   "cell_type": "code",
   "execution_count": null,
   "id": "be2adb5f",
   "metadata": {},
   "outputs": [
    {
     "ename": "ModuleNotFoundError",
     "evalue": "No module named 'transformers'",
     "output_type": "error",
     "traceback": [
      "\u001b[1;31m---------------------------------------------------------------------------\u001b[0m",
      "\u001b[1;31mModuleNotFoundError\u001b[0m                       Traceback (most recent call last)",
      "Cell \u001b[1;32mIn[4], line 4\u001b[0m\n\u001b[0;32m      2\u001b[0m \u001b[38;5;28;01mfrom\u001b[39;00m \u001b[38;5;21;01mbs4\u001b[39;00m \u001b[38;5;28;01mimport\u001b[39;00m BeautifulSoup\n\u001b[0;32m      3\u001b[0m \u001b[38;5;28;01mimport\u001b[39;00m \u001b[38;5;21;01mtime\u001b[39;00m\n\u001b[1;32m----> 4\u001b[0m \u001b[38;5;28;01mfrom\u001b[39;00m \u001b[38;5;21;01mtransformers\u001b[39;00m \u001b[38;5;28;01mimport\u001b[39;00m pipeline\n\u001b[0;32m      7\u001b[0m \u001b[38;5;66;03m# Huggingface pipeline 이용\u001b[39;00m\n\u001b[0;32m      8\u001b[0m sentiment_analyzer \u001b[38;5;241m=\u001b[39m pipeline(\u001b[38;5;124m\"\u001b[39m\u001b[38;5;124msentiment-analysis\u001b[39m\u001b[38;5;124m\"\u001b[39m, model\u001b[38;5;241m=\u001b[39m\u001b[38;5;124m\"\u001b[39m\u001b[38;5;124mbeomi/kcbert-base\u001b[39m\u001b[38;5;124m\"\u001b[39m)\n",
      "\u001b[1;31mModuleNotFoundError\u001b[0m: No module named 'transformers'"
     ]
    }
   ],
   "source": [
    "import requests\n",
    "from bs4 import BeautifulSoup\n",
    "import time\n",
    "#from transformers import pipeline\n",
    "\n",
    "\n",
    "# Huggingface pipeline 이용\n",
    "#sentiment_analyzer = pipeline(\"sentiment-analysis\", model=\"beomi/kcbert-base\")\n",
    "\n",
    "headers = {\n",
    "    'User-Agent': 'Mozilla/5.0 (Windows NT 10.0; Win64; x64) AppleWebKit/537.36 (KHTML, like Gecko) Chrome/135.0.0.0 Safari/537.36'\n",
    "}\n",
    "\n",
    "# 1. 베스트셀러 페이지에서 도서 목록 추출\n",
    "def get_bestseller_books():\n",
    "    url = 'https://store.kyobobook.co.kr/bestseller/realtime'\n",
    "    res = requests.get(url, headers=headers)\n",
    "    \n",
    "    if res.ok:\n",
    "        soup = BeautifulSoup(res.text, 'html.parser')\n",
    "        a_tag_list = soup.select('a.prod_link.line-clamp-2.font-medium.text-black.hover\\\\:underline.fz-16.mt-2')\n",
    "        best_books = []\n",
    "\n",
    "        for a_tag in a_tag_list:\n",
    "            title = a_tag.text.strip()\n",
    "            link = a_tag['href']\n",
    "            best_books.append((title, link))\n",
    "        \n",
    "        return best_books\n",
    "\n",
    "\n",
    "# 2. 각 도서 상세 페이지에서 리뷰 추출\n",
    "def get_book_reviews(book_url, max_pages=3):\n",
    "    reviews = []\n",
    "\n",
    "    # url에서 product_id 추출\n",
    "    product_id = book_url.split('/')[-1]\n",
    "\n",
    "    for page in range(1, max_pages + 1):\n",
    "        # review json url\n",
    "        review_url = f'https://product.kyobobook.co.kr/api/review/list?page={page}&pageLimit=10&reviewSort=001&revwPatrCode=002&saleCmdtid={product_id}'\n",
    "        \n",
    "        res = requests.get(review_url, headers=headers)\n",
    "        \n",
    "        if not res.ok:\n",
    "            break\n",
    "\n",
    "        data = res.json()\n",
    "        items = data.get(\"data\", {}).get(\"reviewList\", [])\n",
    "        if not items:\n",
    "            break\n",
    "\n",
    "        for item in items:\n",
    "            reviews.append(item['revwCntt'].strip())\n",
    "\n",
    "        # 방지!!\n",
    "        time.sleep(0.3)\n",
    "    \n",
    "    return reviews\n",
    "\n",
    "# 실행\n",
    "bestsellers = get_bestseller_books()\n",
    "print(\"베스트셀러 5권만 출력 및 리뷰 수집\")\n",
    "\n",
    "for title, link in bestsellers[:10]:  # 상위 10개만\n",
    "    print(f\"\\n📘 {title}\")\n",
    "    reviews = get_book_reviews(link)\n",
    "    for i, review in enumerate(reviews[:3], 1):  # 일단 리뷰 3개만 출력\n",
    "        print(f\"{i}. {review}\")\n",
    "        # result = sentiment_analyzer(review)\n",
    "        # print(result)\n"
   ]
  },
  {
   "cell_type": "markdown",
   "id": "fdf69403",
   "metadata": {},
   "source": [
    "##### 표 : dataFrame"
   ]
  },
  {
   "cell_type": "code",
   "execution_count": 6,
   "id": "2b2d2570",
   "metadata": {},
   "outputs": [
    {
     "data": {
      "text/html": [
       "<div>\n",
       "<style scoped>\n",
       "    .dataframe tbody tr th:only-of-type {\n",
       "        vertical-align: middle;\n",
       "    }\n",
       "\n",
       "    .dataframe tbody tr th {\n",
       "        vertical-align: top;\n",
       "    }\n",
       "\n",
       "    .dataframe thead th {\n",
       "        text-align: right;\n",
       "    }\n",
       "</style>\n",
       "<table border=\"1\" class=\"dataframe\">\n",
       "  <thead>\n",
       "    <tr style=\"text-align: right;\">\n",
       "      <th></th>\n",
       "      <th>title</th>\n",
       "      <th>reviews</th>\n",
       "    </tr>\n",
       "  </thead>\n",
       "  <tbody>\n",
       "    <tr>\n",
       "      <th>0</th>\n",
       "      <td>결국 국민이 합니다</td>\n",
       "      <td>기다리고 기다린 책 존경하고 사랑합니다 | 이재명 대표님의 인생에는 국민이있습니다 ...</td>\n",
       "    </tr>\n",
       "    <tr>\n",
       "      <th>1</th>\n",
       "      <td>단 한 번의 삶</td>\n",
       "      <td>이런 시기에 좋은 산문 한편 읽을 수 있게 해주셔서 고마워요 | 한동안 잠잠했던 수...</td>\n",
       "    </tr>\n",
       "    <tr>\n",
       "      <th>2</th>\n",
       "      <td>대통령 윤석열 탄핵 사건 선고 결정문</td>\n",
       "      <td>헌정질서를 지켜낸 역사의 한장면을 간직하고 싶어서 구매했지요 기대됩니다.한자도 안빼...</td>\n",
       "    </tr>\n",
       "    <tr>\n",
       "      <th>3</th>\n",
       "      <td>행복은 언제나 당신의 편</td>\n",
       "      <td></td>\n",
       "    </tr>\n",
       "    <tr>\n",
       "      <th>4</th>\n",
       "      <td>인생의 파도를 넘는 법</td>\n",
       "      <td></td>\n",
       "    </tr>\n",
       "    <tr>\n",
       "      <th>5</th>\n",
       "      <td>듀얼 브레인</td>\n",
       "      <td>저는 운이 좋게도 &lt;듀얼 브레인&gt;을 가제본으로 먼저 읽을 수 있었습니다. 책을 정말...</td>\n",
       "    </tr>\n",
       "    <tr>\n",
       "      <th>6</th>\n",
       "      <td>소년이 온다</td>\n",
       "      <td>역사를 잊고 살아갈 순 없습니다. 정작 읽어야할 사람들은 안 읽는 것 같네요. | ...</td>\n",
       "    </tr>\n",
       "    <tr>\n",
       "      <th>7</th>\n",
       "      <td>잠시 쉬어 가세요, 런던의 심리상담실</td>\n",
       "      <td></td>\n",
       "    </tr>\n",
       "    <tr>\n",
       "      <th>8</th>\n",
       "      <td>감으로하는 브랜딩은 끝났다</td>\n",
       "      <td>차분하게 잘 읽혀서 좋아요</td>\n",
       "    </tr>\n",
       "    <tr>\n",
       "      <th>9</th>\n",
       "      <td>예약판매줬으면 그만이지(반양장)</td>\n",
       "      <td>제 모교 이사장님 이야기입니다.  그 분은 고교 재학시절, 그리고 현재까지 제가 늘...</td>\n",
       "    </tr>\n",
       "  </tbody>\n",
       "</table>\n",
       "</div>"
      ],
      "text/plain": [
       "                  title                                            reviews\n",
       "0            결국 국민이 합니다  기다리고 기다린 책 존경하고 사랑합니다 | 이재명 대표님의 인생에는 국민이있습니다 ...\n",
       "1              단 한 번의 삶  이런 시기에 좋은 산문 한편 읽을 수 있게 해주셔서 고마워요 | 한동안 잠잠했던 수...\n",
       "2  대통령 윤석열 탄핵 사건 선고 결정문  헌정질서를 지켜낸 역사의 한장면을 간직하고 싶어서 구매했지요 기대됩니다.한자도 안빼...\n",
       "3         행복은 언제나 당신의 편                                                   \n",
       "4          인생의 파도를 넘는 법                                                   \n",
       "5                듀얼 브레인  저는 운이 좋게도 <듀얼 브레인>을 가제본으로 먼저 읽을 수 있었습니다. 책을 정말...\n",
       "6                소년이 온다  역사를 잊고 살아갈 순 없습니다. 정작 읽어야할 사람들은 안 읽는 것 같네요. | ...\n",
       "7  잠시 쉬어 가세요, 런던의 심리상담실                                                   \n",
       "8        감으로하는 브랜딩은 끝났다                                     차분하게 잘 읽혀서 좋아요\n",
       "9     예약판매줬으면 그만이지(반양장)  제 모교 이사장님 이야기입니다.  그 분은 고교 재학시절, 그리고 현재까지 제가 늘..."
      ]
     },
     "execution_count": 6,
     "metadata": {},
     "output_type": "execute_result"
    }
   ],
   "source": [
    "book_data = []\n",
    "\n",
    "for title, link in bestsellers[:10]:\n",
    "    reviews = get_book_reviews(link)\n",
    "    cleaned_reviews = [r.replace('\\n', ' ').strip() for r in reviews[:3]]\n",
    "    row = {\n",
    "        \"title\": title,\n",
    "        \"reviews\": \" | \".join(cleaned_reviews)  # 구분 기호로 연결\n",
    "    }\n",
    "    book_data.append(row)\n",
    "\n",
    "df = pd.DataFrame(book_data)\n",
    "df\n"
   ]
  }
 ],
 "metadata": {
  "kernelspec": {
   "display_name": "base",
   "language": "python",
   "name": "python3"
  },
  "language_info": {
   "codemirror_mode": {
    "name": "ipython",
    "version": 3
   },
   "file_extension": ".py",
   "mimetype": "text/x-python",
   "name": "python",
   "nbconvert_exporter": "python",
   "pygments_lexer": "ipython3",
   "version": "3.12.7"
  }
 },
 "nbformat": 4,
 "nbformat_minor": 5
}
