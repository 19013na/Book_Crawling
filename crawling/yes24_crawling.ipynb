{
 "cells": [
  {
   "cell_type": "markdown",
   "id": "cd68c49d",
   "metadata": {},
   "source": [
    "##### yes24 장르/나이/성별 베스트셀러 크롤링"
   ]
  },
  {
   "cell_type": "code",
   "execution_count": null,
   "id": "96a8e387",
   "metadata": {},
   "outputs": [],
   "source": [
    "import requests\n",
    "from bs4 import BeautifulSoup\n",
    "import pandas as pd\n",
    "\n",
    "headers = {\n",
    "    \"User-Agent\": \"Mozilla/5.0 (Windows NT 10.0; Win64; x64) AppleWebKit/537.36 (KHTML, like Gecko) Chrome/135.0.0.0 Safari/537.36\"\n",
    "}\n",
    "\n",
    "def get_yes24_bestsellers(category_number=None, sex=None, age=None, max_items=5):\n",
    "    \n",
    "    # 카테고리가 없으면 종합 베스트셀러 가져오기 - 전체: 001\n",
    "    category_number = category_number or \"001\"\n",
    "    url = f'https://www.yes24.com/Product/Category/DayBestSeller?categoryNumber={category_number}'\n",
    "    \n",
    "    # 성별 및 나이 조건 추가\n",
    "    if sex: url += f\"&sex={sex}\"\n",
    "    if age: url += f\"&age={age}\"\n",
    "\n",
    "    res = requests.get(url, headers=headers)\n",
    "    res.raise_for_status()\n",
    "    soup = BeautifulSoup(res.text, \"html.parser\")\n",
    "\n",
    "    book_items = soup.select(\"div.itemUnit\")[:max_items]\n",
    "    book_list = []\n",
    "    \n",
    "    for item in book_items:\n",
    "        try:\n",
    "            img = item.select_one(\"img.lazy\").get(\"data-original\")\n",
    "            rank = item.select_one(\".ico.rank\").text\n",
    "            title_tag = item.select_one(\".gd_name\")\n",
    "            author = item.select_one(\"a[href*='author=']\").text\n",
    "            publisher = item.select_one(\"a[href*='company=']\").text\n",
    "            date = item.select_one(\".authPub.info_date\").text\n",
    "\n",
    "            if not all([rank, title_tag, author, publisher, date]):\n",
    "                continue\n",
    "\n",
    "            title = title_tag.text.strip()\n",
    "            link = \"https://www.yes24.com\" + title_tag[\"href\"]\n",
    "            \n",
    "            book_list.append({\n",
    "                \"이미지\": img,\n",
    "                \"순위\": rank,\n",
    "                \"제목\": title,\n",
    "                \"저자\": author,\n",
    "                \"출판사\": publisher,\n",
    "                \"출간일\": date,\n",
    "                \"링크\": link\n",
    "            })\n",
    "        except Exception:\n",
    "            continue\n",
    "\n",
    "    return pd.DataFrame(book_list)"
   ]
  },
  {
   "cell_type": "code",
   "execution_count": 9,
   "id": "f112ee1d",
   "metadata": {},
   "outputs": [
    {
     "name": "stdout",
     "output_type": "stream",
     "text": [
      "📘 국내도서 건강/취미 20대 F 베스트셀러\n"
     ]
    },
    {
     "data": {
      "text/html": [
       "<div>\n",
       "<style scoped>\n",
       "    .dataframe tbody tr th:only-of-type {\n",
       "        vertical-align: middle;\n",
       "    }\n",
       "\n",
       "    .dataframe tbody tr th {\n",
       "        vertical-align: top;\n",
       "    }\n",
       "\n",
       "    .dataframe thead th {\n",
       "        text-align: right;\n",
       "    }\n",
       "</style>\n",
       "<table border=\"1\" class=\"dataframe\">\n",
       "  <thead>\n",
       "    <tr style=\"text-align: right;\">\n",
       "      <th></th>\n",
       "      <th>이미지</th>\n",
       "      <th>순위</th>\n",
       "      <th>제목</th>\n",
       "      <th>저자</th>\n",
       "      <th>출판사</th>\n",
       "      <th>출간일</th>\n",
       "      <th>링크</th>\n",
       "    </tr>\n",
       "  </thead>\n",
       "  <tbody>\n",
       "    <tr>\n",
       "      <th>0</th>\n",
       "      <td>https://image.yes24.com/momo/PD_19_L.gif</td>\n",
       "      <td>1</td>\n",
       "      <td>[세트] Shutline 셔트라인 시즌2 FREE TALK &amp; NG</td>\n",
       "      <td>KYOU(쿄우)</td>\n",
       "      <td>두세븐 엔터테인먼트</td>\n",
       "      <td>2025년 04월</td>\n",
       "      <td>https://www.yes24.com/product/goods/145341738</td>\n",
       "    </tr>\n",
       "    <tr>\n",
       "      <th>1</th>\n",
       "      <td>https://image.yes24.com/momo/PD_19_L.gif</td>\n",
       "      <td>2</td>\n",
       "      <td>Shutline 셔트라인 시즌2 오디오드라마 트랙01</td>\n",
       "      <td>KYOU(쿄우)</td>\n",
       "      <td>두세븐 엔터테인먼트</td>\n",
       "      <td>2024년 12월</td>\n",
       "      <td>https://www.yes24.com/product/goods/140284212</td>\n",
       "    </tr>\n",
       "  </tbody>\n",
       "</table>\n",
       "</div>"
      ],
      "text/plain": [
       "                                        이미지 순위  \\\n",
       "0  https://image.yes24.com/momo/PD_19_L.gif  1   \n",
       "1  https://image.yes24.com/momo/PD_19_L.gif  2   \n",
       "\n",
       "                                      제목        저자         출판사        출간일  \\\n",
       "0  [세트] Shutline 셔트라인 시즌2 FREE TALK & NG  KYOU(쿄우)  두세븐 엔터테인먼트  2025년 04월   \n",
       "1          Shutline 셔트라인 시즌2 오디오드라마 트랙01  KYOU(쿄우)  두세븐 엔터테인먼트  2024년 12월   \n",
       "\n",
       "                                              링크  \n",
       "0  https://www.yes24.com/product/goods/145341738  \n",
       "1  https://www.yes24.com/product/goods/140284212  "
      ]
     },
     "execution_count": 9,
     "metadata": {},
     "output_type": "execute_result"
    }
   ],
   "source": [
    "# 국내도서 - 건강 취미, 여자, 20대 설정\n",
    "health_category = \"017001008\"\n",
    "sex = 'F'\n",
    "age = 20\n",
    "df_health = get_yes24_bestsellers(health_category, sex, age)\n",
    "print(f\"📘 국내도서 건강/취미 {age}대 {sex} 베스트셀러\")\n",
    "df_health"
   ]
  },
  {
   "cell_type": "code",
   "execution_count": null,
   "id": "13cbaffa",
   "metadata": {},
   "outputs": [
    {
     "ename": "SyntaxError",
     "evalue": "leading zeros in decimal integer literals are not permitted; use an 0o prefix for octal integers (3424738523.py, line 2)",
     "output_type": "error",
     "traceback": [
      "\u001b[1;36m  Cell \u001b[1;32mIn[4], line 2\u001b[1;36m\u001b[0m\n\u001b[1;33m    categoryNumber=017\u001b[0m\n\u001b[1;37m                   ^\u001b[0m\n\u001b[1;31mSyntaxError\u001b[0m\u001b[1;31m:\u001b[0m leading zeros in decimal integer literals are not permitted; use an 0o prefix for octal integers\n"
     ]
    }
   ],
   "source": [
    "    # ebook 전체\n",
    "    #categoryNumber=017\n",
    "\n",
    "    # 종이책\n",
    "    #categoryNumber=001\n",
    "\n",
    "    # 오디오북 전체\n",
    "    #categoryNumber=017001008\n",
    "\n",
    "\n",
    "\n"
   ]
  }
 ],
 "metadata": {
  "kernelspec": {
   "display_name": "base",
   "language": "python",
   "name": "python3"
  },
  "language_info": {
   "codemirror_mode": {
    "name": "ipython",
    "version": 3
   },
   "file_extension": ".py",
   "mimetype": "text/x-python",
   "name": "python",
   "nbconvert_exporter": "python",
   "pygments_lexer": "ipython3",
   "version": "3.12.7"
  }
 },
 "nbformat": 4,
 "nbformat_minor": 5
}
