{
 "cells": [
  {
   "cell_type": "markdown",
   "id": "cd68c49d",
   "metadata": {},
   "source": [
    "##### yes24 장르/나이/성별 베스트셀러 크롤링"
   ]
  },
  {
   "cell_type": "code",
   "execution_count": 3,
   "id": "96a8e387",
   "metadata": {},
   "outputs": [],
   "source": [
    "import requests\n",
    "from bs4 import BeautifulSoup\n",
    "import pandas as pd\n",
    "\n",
    "headers = {\n",
    "    \"User-Agent\": \"Mozilla/5.0 (Windows NT 10.0; Win64; x64) AppleWebKit/537.36 (KHTML, like Gecko) Chrome/135.0.0.0 Safari/537.36\"\n",
    "}\n",
    "\n",
    "def get_yes24_bestsellers(category_number=None, sex=None, age=None, max_items=10):\n",
    "    \n",
    "    # 카테고리가 없으면 종합 베스트셀러 가져오기 - 전체: 001\n",
    "    category_number = category_number or \"001\"\n",
    "    url = f'https://www.yes24.com/Product/Category/DayBestSeller?categoryNumber={category_number}'\n",
    "    \n",
    "    # 성별 및 나이 조건 추가\n",
    "    if sex: url += f\"&sex={sex}\"\n",
    "    if age: url += f\"&age={age}\"\n",
    "\n",
    "    res = requests.get(url, headers=headers)\n",
    "    res.raise_for_status()\n",
    "    soup = BeautifulSoup(res.text, \"html.parser\")\n",
    "\n",
    "    book_items = soup.select(\"div.itemUnit\")[:max_items]\n",
    "    book_list = []\n",
    "    \n",
    "    for item in book_items:\n",
    "        try:\n",
    "            rank = item.select_one(\".ico.rank\").text\n",
    "            title_tag = item.select_one(\".gd_name\")\n",
    "            author = item.select_one(\"a[href*='author=']\").text\n",
    "            publisher = item.select_one(\"a[href*='company=']\").text\n",
    "            date = item.select_one(\".authPub.info_date\").text\n",
    "\n",
    "            if not all([rank, title_tag, author, publisher, date]):\n",
    "                continue\n",
    "\n",
    "            title = title_tag.text.strip()\n",
    "            link = \"https://www.yes24.com\" + title_tag[\"href\"]\n",
    "            \n",
    "            book_list.append({\n",
    "                \"순위\": rank,\n",
    "                \"제목\": title,\n",
    "                \"저자\": author,\n",
    "                \"출판사\": publisher,\n",
    "                \"출간일\": date,\n",
    "                \"링크\": link\n",
    "            })\n",
    "        except Exception:\n",
    "            continue\n",
    "\n",
    "    return pd.DataFrame(book_list)"
   ]
  },
  {
   "cell_type": "code",
   "execution_count": null,
   "id": "f112ee1d",
   "metadata": {},
   "outputs": [],
   "source": [
    "# 국내도서 - 건강 취미, 여자, 20대 설정\n",
    "health_category = \"001001011\"\n",
    "sex = 'F'\n",
    "age = 20\n",
    "df_health = get_yes24_bestsellers(health_category, sex, age)\n",
    "print(f\"📘 국내도서 건강/취미 {age}대 {sex} 베스트셀러\")\n",
    "df_health"
   ]
  },
  {
   "cell_type": "code",
   "execution_count": null,
   "id": "13cbaffa",
   "metadata": {},
   "outputs": [],
   "source": [
    "\"\"\"\n",
    "    # ebook 전체\n",
    "    categoryNumber=017\n",
    "\n",
    "    # 종이책\n",
    "    categoryNumber=001\n",
    "\n",
    "    # 오디오북 전체\n",
    "    categoryNumber=017001008\n",
    "\n",
    "\"\"\"\n",
    "\n",
    "\n"
   ]
  }
 ],
 "metadata": {
  "kernelspec": {
   "display_name": "base",
   "language": "python",
   "name": "python3"
  },
  "language_info": {
   "codemirror_mode": {
    "name": "ipython",
    "version": 3
   },
   "file_extension": ".py",
   "mimetype": "text/x-python",
   "name": "python",
   "nbconvert_exporter": "python",
   "pygments_lexer": "ipython3",
   "version": "3.12.7"
  }
 },
 "nbformat": 4,
 "nbformat_minor": 5
}
